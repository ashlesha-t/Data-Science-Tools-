{
 "cells": [
  {
   "cell_type": "markdown",
   "id": "83c2dd46-3d12-4db0-982b-dcc7a71807d8",
   "metadata": {},
   "source": [
    "# Data Science Tools and Ecosystem"
   ]
  },
  {
   "cell_type": "markdown",
   "id": "776d2d23-4fa1-4f56-afef-b9d68f0e6e82",
   "metadata": {},
   "source": [
    "In this notebook, Data Science Tools and Ecosystem are summarized."
   ]
  },
  {
   "cell_type": "markdown",
   "id": "8f4bbe94-9092-4e23-b4a7-a83fee7bcbc5",
   "metadata": {},
   "source": [
    "Some of the popular languages that Data Scientists use are:\n",
    "1. Python\n",
    "2. R\n",
    "3. SQL"
   ]
  },
  {
   "cell_type": "markdown",
   "id": "3154a7be-ae75-4082-bdbb-d9f194f8189e",
   "metadata": {},
   "source": [
    "Some of the commonly used libraries used by Data Scientists include:\n",
    "1. Pandas\n",
    "2. Numpy\n",
    "3. Scikit-learn"
   ]
  },
  {
   "cell_type": "markdown",
   "id": "e13193f1-da76-42bc-be1c-7c5b098623c9",
   "metadata": {},
   "source": [
    "Some of the popular Data Science Tools are:\n",
    "|Data Science Tools|\n",
    "| :--: |\n",
    "|Apache Spark|\n",
    "|R Studio|\n",
    "|Scikit-learn|"
   ]
  },
  {
   "cell_type": "markdown",
   "id": "2487af31-97f4-446c-b571-4e6daa723c9c",
   "metadata": {},
   "source": [
    "### Below are a few examples of evaluating arithmetic expressions in Python:"
   ]
  },
  {
   "cell_type": "code",
   "execution_count": 39,
   "id": "3017e634-abc0-48b4-afea-dcf436ce0a91",
   "metadata": {},
   "outputs": [
    {
     "data": {
      "text/plain": [
       "17"
      ]
     },
     "execution_count": 39,
     "metadata": {},
     "output_type": "execute_result"
    }
   ],
   "source": [
    "# This a simple arithmetic expression to mutiply then add integers\n",
    "(3*4)+5"
   ]
  },
  {
   "cell_type": "code",
   "execution_count": 43,
   "id": "77d1055c-0e6c-40e5-b8f0-54e2f575d49c",
   "metadata": {},
   "outputs": [
    {
     "data": {
      "text/plain": [
       "3.3333333333333335"
      ]
     },
     "execution_count": 43,
     "metadata": {},
     "output_type": "execute_result"
    }
   ],
   "source": [
    "# This will convert 200 minutes to hours by diving by 60\n",
    "200/60"
   ]
  },
  {
   "cell_type": "markdown",
   "id": "8e4e6208-edda-4906-8dd1-1aa17927f52f",
   "metadata": {},
   "source": [
    "**Objectives:**\n",
    "* Popular languages in Data Science\n",
    "* Popular libraries used by Data Scientist\n",
    "* Popular Data Science tools"
   ]
  },
  {
   "cell_type": "markdown",
   "id": "97527008-d099-4136-9dbc-7e06fba5c05e",
   "metadata": {
    "editable": true,
    "slideshow": {
     "slide_type": ""
    },
    "tags": []
   },
   "source": [
    "## Author:\n",
    "Ashlesha Tallavajhula"
   ]
  },
  {
   "cell_type": "code",
   "execution_count": null,
   "id": "8bc73dde-7dc0-4a73-a528-b82ca8b90226",
   "metadata": {},
   "outputs": [],
   "source": []
  }
 ],
 "metadata": {
  "kernelspec": {
   "display_name": "Python [conda env:base] *",
   "language": "python",
   "name": "conda-base-py"
  },
  "language_info": {
   "codemirror_mode": {
    "name": "ipython",
    "version": 3
   },
   "file_extension": ".py",
   "mimetype": "text/x-python",
   "name": "python",
   "nbconvert_exporter": "python",
   "pygments_lexer": "ipython3",
   "version": "3.12.7"
  }
 },
 "nbformat": 4,
 "nbformat_minor": 5
}

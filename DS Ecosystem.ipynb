{
 "cells": [
  {
   "cell_type": "markdown",
   "id": "4d81e99a-baee-4e0a-844e-91395cc6cbd8",
   "metadata": {},
   "source": [
    "# Data Science Tools and Ecosystem"
   ]
  },
  {
   "cell_type": "markdown",
   "id": "87bde153-d66e-4ce8-9e47-e97d39cd05fb",
   "metadata": {},
   "source": [
    "In this notebook, Data Science Tools and Ecosystem are summarized."
   ]
  },
  {
   "cell_type": "markdown",
   "id": "42b2105a-3a6c-4819-972f-24d16d0ed437",
   "metadata": {},
   "source": [
    "Some of the popular languages that Data Scientists use are:\n",
    "1. Python\n",
    "2. R\n",
    "3. SQL"
   ]
  },
  {
   "cell_type": "markdown",
   "id": "2f2d6579-6a70-4ccc-beb3-dd2038a3a767",
   "metadata": {},
   "source": [
    "Some of the commonly used libraries used by Data Scientists include:\n",
    "1. Pandas\n",
    "2. Numpy\n",
    "3. Scikit-learn"
   ]
  },
  {
   "cell_type": "markdown",
   "id": "b2995eca-8e15-44b6-8cef-eb821063e3cc",
   "metadata": {},
   "source": [
    "Some of the popular Data Science Tools are:\n",
    "|Data Science Tools|\n",
    "| :--: |\n",
    "|Apache Spark|\n",
    "|R Studio|\n",
    "|Scikit-learn|"
   ]
  },
  {
   "cell_type": "markdown",
   "id": "6a555517-84a1-4cc1-8425-3e2b50c3f497",
   "metadata": {},
   "source": [
    "### Below are a few examples of evaluating arithmetic expressions in Python:"
   ]
  },
  {
   "cell_type": "code",
   "execution_count": 7,
   "id": "e19139bc-3a87-4239-a0f1-9a069b50f566",
   "metadata": {},
   "outputs": [
    {
     "data": {
      "text/plain": [
       "17"
      ]
     },
     "execution_count": 7,
     "metadata": {},
     "output_type": "execute_result"
    }
   ],
   "source": [
    "# This a simple arithmetic expression to mutiply then add integers\n",
    "(3*4)+5"
   ]
  },
  {
   "cell_type": "code",
   "execution_count": 9,
   "id": "8dac5d55-4c05-4266-ac36-20564865bd6b",
   "metadata": {},
   "outputs": [
    {
     "data": {
      "text/plain": [
       "3.3333333333333335"
      ]
     },
     "execution_count": 9,
     "metadata": {},
     "output_type": "execute_result"
    }
   ],
   "source": [
    "# This will convert 200 minutes to hours by diving by 60\n",
    "200/60"
   ]
  },
  {
   "cell_type": "markdown",
   "id": "793de5f9-aa2a-4405-9bd1-f9a25114813c",
   "metadata": {},
   "source": [
    "**Objectives:**\n",
    "* Popular languages in Data Science\n",
    "* Popular libraries used by Data Scientist\n",
    "* Popular Data Science tools"
   ]
  },
  {
   "cell_type": "markdown",
   "id": "d2c2d991-7d10-42bd-aa2b-5e1435fdcb2b",
   "metadata": {},
   "source": [
    "## Author:\n",
    "Ashlesha Tallavajhula"
   ]
  },
  {
   "cell_type": "code",
   "execution_count": null,
   "id": "93cc4d91-3d40-41f9-8e1a-2e48947f645d",
   "metadata": {},
   "outputs": [],
   "source": []
  }
 ],
 "metadata": {
  "kernelspec": {
   "display_name": "Python [conda env:base] *",
   "language": "python",
   "name": "conda-base-py"
  },
  "language_info": {
   "codemirror_mode": {
    "name": "ipython",
    "version": 3
   },
   "file_extension": ".py",
   "mimetype": "text/x-python",
   "name": "python",
   "nbconvert_exporter": "python",
   "pygments_lexer": "ipython3",
   "version": "3.12.7"
  }
 },
 "nbformat": 4,
 "nbformat_minor": 5
}
